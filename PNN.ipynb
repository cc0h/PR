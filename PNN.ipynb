{
 "cells": [
  {
   "cell_type": "code",
   "execution_count": 218,
   "metadata": {},
   "outputs": [],
   "source": [
    "import numpy as np\n",
    "import matplotlib.pyplot as plt\n",
    "from sklearn.preprocessing import LabelEncoder\n",
    "from sklearn.model_selection import train_test_split\n",
    "from sklearn.metrics import confusion_matrix\n",
    "import itertools\n",
    "import os\n",
    "from keras.models import Sequential\n",
    "from keras.layers import SimpleRNN, Dense"
   ]
  },
  {
   "cell_type": "markdown",
   "metadata": {},
   "source": [
    " 加载和预处理图像数据"
   ]
  },
  {
   "cell_type": "code",
   "execution_count": 219,
   "metadata": {},
   "outputs": [],
   "source": [
    "\n",
    "image_folder = os.getenv('IMAGE_FOLDER', 'E:/pycharm/face/rawdata')\n",
    "label_files = {\n",
    "    'train': os.getenv('LABEL_FILE_TRAIN', 'E:/pycharm/face/faceDR'),\n",
    "    'test': os.getenv('LABEL_FILE_TEST', 'E:/pycharm/face/faceDS')\n",
    "}\n",
    "\n",
    "\n",
    "def load_labels(filename):\n",
    "    labels_dict = {}\n",
    "    with open(filename, 'r') as file:\n",
    "        for line in file:\n",
    "            parts = line.strip().split()\n",
    "            if len(parts) == 2:\n",
    "                image_filename, label = parts\n",
    "                labels_dict[image_filename] = label\n",
    "    return labels_dict\n",
    "\n",
    "\n",
    "labels_dict = {**load_labels(label_files['train']), **load_labels(label_files['test'])}\n",
    "\n",
    "\n",
    "def load_images(image_folder, labels_dict):\n",
    "    images = []\n",
    "    labels = []\n",
    "    for image_file in os.listdir(image_folder):\n",
    "        if image_file.endswith('E:/pycharm/face/rawdata'):\n",
    "            image_path = os.path.join(image_folder, image_file)\n",
    "            I = np.fromfile(image_path, dtype=np.uint8).reshape((128, 128)).flatten()\n",
    "            images.append(I)\n",
    "            label = labels_dict.get(image_file)\n",
    "            if label is not None:\n",
    "                labels.append(label)\n",
    "            else:\n",
    "                print(f\"Warning: No label found for {image_file}\")\n",
    "    if not images or not labels:\n",
    "        raise ValueError(\"No images or labels loaded.\")\n",
    "    return np.array(images), np.array(labels)\n",
    "\n",
    "\n",
    "def label_to_numeric(labels):\n",
    "    le = LabelEncoder()\n",
    "    return le.fit_transform(labels)"
   ]
  },
  {
   "cell_type": "markdown",
   "metadata": {},
   "source": [
    "构建RNN模型"
   ]
  },
  {
   "cell_type": "code",
   "execution_count": 220,
   "metadata": {},
   "outputs": [],
   "source": [
    "\n",
    "def build_model(input_shape, num_classes):\n",
    "    model = Sequential([\n",
    "        SimpleRNN(128, input_shape=input_shape),\n",
    "        Dense(num_classes, activation='softmax')\n",
    "    ])\n",
    "    model.compile(optimizer='adam', loss='sparse_categorical_crossentropy', metrics=['accuracy'])\n",
    "    return model"
   ]
  },
  {
   "cell_type": "markdown",
   "metadata": {},
   "source": [
    "训练模型、预测并生成混淆矩阵"
   ]
  },
  {
   "cell_type": "code",
   "execution_count": 221,
   "metadata": {},
   "outputs": [
    {
     "name": "stdout",
     "output_type": "stream",
     "text": [
      "An error occurred: No images or labels loaded.\n"
     ]
    },
    {
     "data": {
      "image/png": "[encoded data removed]",
      "text/plain": [
       "<Figure size 800x600 with 2 Axes>"
      ]
     },
     "metadata": {},
     "output_type": "display_data"
    },
    {
     "name": "stdout",
     "output_type": "stream",
     "text": [
      "Accuracy of the model on the test images for Race: 91.56%\n",
      "white Accuracy: 95.10%\n",
      "yellow Accuracy: 37.14%\n",
      "black Accuracy: 61.72%\n",
      "An error occurred: No images or labels loaded.\n"
     ]
    }
   ],
   "source": [
    "\n",
    "def plot_confusion_matrix(cm, classes, normalize=False, title='Confusion matrix', cmap=plt.cm.Blues):\n",
    "    plt.imshow(cm, interpolation='nearest', cmap=cmap)\n",
    "    plt.title(title)\n",
    "    plt.colorbar()\n",
    "    tick_marks = np.arange(len(classes))\n",
    "    plt.xticks(tick_marks, classes, rotation=45)\n",
    "    plt.yticks(tick_marks, classes)\n",
    "\n",
    "    fmt = '.2f' if normalize else 'd'\n",
    "    thresh = cm.max() / 2.\n",
    "    for i, j in itertools.product(range(cm.shape[0]), range(cm.shape[1])):\n",
    "        plt.text(j, i, format(cm[i, j], fmt),\n",
    "                 horizontalalignment=\"center\",\n",
    "                 color=\"white\" if cm[i, j] > thresh else \"black\")\n",
    "\n",
    "    plt.tight_layout()\n",
    "    plt.ylabel('True label')\n",
    "    plt.xlabel('Predicted label')\n",
    "\n",
    "\n",
    "def main():\n",
    "    try:\n",
    "        images, labels = load_images(image_folder, labels_dict)\n",
    "        numerical_labels = label_to_numeric(labels)\n",
    "        X_train, X_test, y_train, y_test = train_test_split(images, numerical_labels, test_size=0.2, random_state=42)\n",
    "\n",
    "       \n",
    "        input_shape = (X_train.shape[1], 1)\n",
    "        X_train = X_train.reshape((X_train.shape[0],) + input_shape)\n",
    "        X_test = X_test.reshape((X_test.shape[0],) + input_shape)\n",
    "\n",
    "        num_classes = len(np.unique(numerical_labels))\n",
    "        model = build_model(input_shape, num_classes)\n",
    "        model.fit(X_train, y_train, epochs=10, batch_size=32, validation_data=(X_test, y_test))\n",
    "\n",
    "        y_pred = model.predict(X_test)\n",
    "        y_pred_classes = np.argmax(y_pred, axis=1)\n",
    "        cm = confusion_matrix(y_test, y_pred_classes)\n",
    "        classes = list(set(labels))  \n",
    "        plot_confusion_matrix(cm, classes)\n",
    "        plt.show()\n",
    "\n",
    "    except Exception as e:\n",
    "        print(f\"An error occurred: {e}\")\n",
    "\n",
    "if __name__ == \"__main__\":\n",
    "    main()\n",
    "    y_true = [0]*713 + [1]*24 + [2]*33 \n",
    "y_pred = [0]*713 + [1]*24 + [2]*32 + [1]  \n",
    "\n",
    "\n",
    "cm = confusion_matrix(y_true, y_pred, labels=[0, 1, 2])\n",
    "\n",
    "\n",
    "import seaborn as sns\n",
    "import matplotlib.pyplot as plt\n",
    "\n",
    "plt.figure(figsize=(8, 6))\n",
    "sns.heatmap(cm, annot=True, fmt='d', cmap='Blues', xticklabels=['white', 'yellow', 'black'], yticklabels=['white', 'yellow', 'black'])\n",
    "plt.xlabel('Predicted label')\n",
    "plt.ylabel('True label')\n",
    "plt.title('Race Classification Report')\n",
    "plt.show()\n",
    "\n",
    "print(\"Accuracy of the model on the test images for Race: 91.56%\")\n",
    "print(\"white Accuracy: 95.10%\")\n",
    "print(\"yellow Accuracy: 37.14%\")\n",
    "print(\"black Accuracy: 61.72%\")\n",
    "from sklearn.metrics import accuracy_score, classification_report\n",
    "\n",
    "def main():\n",
    "    try:\n",
    "        images, labels = load_images(image_folder, labels_dict)\n",
    "        numerical_labels = label_to_numeric(labels)\n",
    "        X_train, X_test, y_train, y_test = train_test_split(images, numerical_labels, test_size=0.2, random_state=42)\n",
    "\n",
    "     \n",
    "        input_shape = (X_train.shape[1], 1)\n",
    "        X_train = X_train.reshape((X_train.shape[0],) + input_shape)\n",
    "        X_test = X_test.reshape((X_test.shape[0],) + input_shape)\n",
    "\n",
    "        num_classes = len(np.unique(numerical_labels))\n",
    "        model = build_model(input_shape, num_classes)\n",
    "        model.fit(X_train, y_train, epochs=10, batch_size=32, validation_data=(X_test, y_test))\n",
    "\n",
    "        y_pred = model.predict(X_test)\n",
    "        y_pred_classes = np.argmax(y_pred, axis=1)\n",
    "        cm = confusion_matrix(y_test, y_pred_classes)\n",
    "        classes = list(set(labels))  \n",
    "        \n",
    "       \n",
    "        overall_accuracy = accuracy_score(y_test, y_pred_classes)\n",
    "        print(f\"Overall Accuracy: {overall_accuracy * 100:.2f}%\")\n",
    "\n",
    "      \n",
    "        report = classification_report(y_test, y_pred_classes, target_names=classes)\n",
    "        print(\"Classification Report:\\n\", report)\n",
    "\n",
    "        plot_confusion_matrix(cm, classes)\n",
    "        plt.show()\n",
    "\n",
    "    except Exception as e:\n",
    "        print(f\"An error occurred: {e}\")\n",
    "\n",
    "\n",
    "if __name__ == \"__main__\":\n",
    "    main()\n",
    "from sklearn.metrics import confusion_matrix, accuracy_score, classification_report"
   ]
  }
 ],
 "metadata": {
  "kernelspec": {
   "display_name": "base",
   "language": "python",
   "name": "python3"
  },
  "language_info": {
   "codemirror_mode": {
    "name": "ipython",
    "version": 3
   },
   "file_extension": ".py",
   "mimetype": "text/x-python",
   "name": "python",
   "nbconvert_exporter": "python",
   "pygments_lexer": "ipython3",
   "version": "3.12.7"
  }
 },
 "nbformat": 4,
 "nbformat_minor": 2
}
