{
 "cells": [
  {
   "metadata": {},
   "cell_type": "markdown",
   "source": "导入需要的库，检查CUDA是否可用，优先选择在GPU上训练，提高训练速度",
   "id": "a2ca2920cd516f8d"
  },
  {
   "metadata": {
    "ExecuteTime": {
     "end_time": "2025-01-08T12:26:55.309962Z",
     "start_time": "2025-01-08T12:26:55.302279Z"
    }
   },
   "cell_type": "code",
   "source": [
    "import os\n",
    "import torch\n",
    "import torch.nn as nn\n",
    "import torch.optim as optim\n",
    "from torch.utils.data import Dataset, DataLoader, random_split\n",
    "from torchvision import transforms\n",
    "from PIL import Image\n",
    "import numpy as np\n",
    "from sklearn.metrics import confusion_matrix, ConfusionMatrixDisplay\n",
    "import matplotlib.pyplot as plt\n",
    "from tqdm import tqdm\n",
    "\n",
    "\n",
    "# 检查是否有可用的GPU\n",
    "device = torch.device(\"cuda\" if torch.cuda.is_available() else \"cpu\")\n",
    "print(f\"Using device: {device}\")"
   ],
   "id": "334ba88d92a17119",
   "outputs": [
    {
     "name": "stdout",
     "output_type": "stream",
     "text": [
      "Using device: cuda\n"
     ]
    }
   ],
   "execution_count": 3
  },
  {
   "metadata": {},
   "cell_type": "markdown",
   "source": "自定义的数据集类，数据的预处理以及标签和图像的对应都在这个类里完成",
   "id": "4de5c6ffa92b5264"
  },
  {
   "metadata": {},
   "cell_type": "markdown",
   "source": "首先检测标签是否完整，对于不完整的标签直接剔除，正常的标签则用空格分隔后获取到性别、年龄、肤色等数据。浏览数据时发现有个别文件比其他文件大，这里选择用文件大小区分异常文件，大文件先处理成512x512的图像，然后再缩放成128x128的图像。",
   "id": "def306c78cff45f9"
  },
  {
   "metadata": {},
   "cell_type": "markdown",
   "source": "接下来检查是否有大面积全黑或全白的图片，计算完整标签对应的图像的平均灰度，过亮和过暗的图像都剔除。再处理过曝的图像：计算画面中心32x32区域内的平均灰度，过亮的图像则剔除。\n",
   "id": "404f10bba6d00116"
  },
  {
   "metadata": {
    "ExecuteTime": {
     "end_time": "2025-01-08T12:27:02.561014Z",
     "start_time": "2025-01-08T12:27:02.542115Z"
    }
   },
   "cell_type": "code",
   "source": [
    "# 自定义数据集类\n",
    "class FaceDataset(Dataset):\n",
    "    def __init__(self, data_files, raw_data_dir, transform=None, brightness_threshold=0.005, center_brightness_threshold=0.96):\n",
    "        self.data_files = data_files\n",
    "        self.raw_data_dir = raw_data_dir\n",
    "        self.transform = transform\n",
    "        self.brightness_threshold = brightness_threshold\n",
    "        self.center_brightness_threshold = center_brightness_threshold\n",
    "        self.samples = self._load_samples()\n",
    "\n",
    "    def _load_samples(self):\n",
    "        samples = []\n",
    "        for data_file in self.data_files:\n",
    "            with open(data_file, 'r') as f:\n",
    "                for line_number, line in enumerate(f, start=1):\n",
    "                    parts = line.strip().split()\n",
    "                    if len(parts) < 5:\n",
    "                        print(f\"Skipping incomplete line {line_number}: {line}\")\n",
    "                        continue  # 跳过不完整或错误的数据行\n",
    "\n",
    "                    try:\n",
    "                        image_id = parts[0]\n",
    "                        sex = parts[2].strip('()')\n",
    "                        age = parts[4].strip('()')\n",
    "                        race = parts[6].strip('()')\n",
    "                        face = parts[8].strip('()')\n",
    "\n",
    "                        #根据不同大小的文件选择不同的处理方式\n",
    "                        image_path = os.path.join(self.raw_data_dir, image_id)\n",
    "                        file_size_kb = os.path.getsize(image_path) / 1024\n",
    "\n",
    "                        if file_size_kb < 20:\n",
    "                            with open(image_path, 'rb') as f:\n",
    "                                img = Image.fromarray(np.reshape(np.frombuffer(f.read(), dtype=np.uint8), (128, 128)))\n",
    "                        else:\n",
    "                            with open(image_path, 'rb') as f:\n",
    "                                img = Image.fromarray(np.reshape(np.frombuffer(f.read(), dtype=np.uint8), (512, 512)))\n",
    "                                img = img.resize((128, 128))\n",
    "                        # 检查图片是否接近全黑或全白\n",
    "                        img_array = np.array(img).astype(float)\n",
    "                        avg_brightness = np.mean(img_array)\n",
    "                        if avg_brightness < 255 * self.brightness_threshold or avg_brightness > 255 * (1 - self.brightness_threshold):\n",
    "                            print(f\"Skipping image {image_id} due to low or high overall brightness.\")\n",
    "                            continue  # 跳过过于暗或亮的图片\n",
    "\n",
    "                        # 检查图片中心区域是否过亮\n",
    "                        center_region = img_array[48:80, 48:80]  # 中心32x32区域\n",
    "                        center_avg_brightness = np.mean(center_region)\n",
    "                        if center_avg_brightness > 255 * self.center_brightness_threshold:\n",
    "                            print(f\"Skipping image {image_id} due to high brightness in the center region.\")\n",
    "                            continue  # 跳过中心区域过亮的图片\n",
    "\n",
    "                        samples.append((image_id, sex, age, race, face))\n",
    "                    except IndexError as e:\n",
    "                        print(f\"Skipping malformed line {line_number} due to error: {e}\\nLine content: {line}\")\n",
    "                    except Exception as e:\n",
    "                        print(f\"Failed to process image {image_id}: {e}\")\n",
    "\n",
    "        return samples\n",
    "\n",
    "    def __len__(self):\n",
    "        return len(self.samples)\n",
    "\n",
    "    def __getitem__(self, idx):\n",
    "        image_id, sex, age, race, face = self.samples[idx]\n",
    "        image_path = os.path.join(self.raw_data_dir, image_id)\n",
    "\n",
    "        file_size_kb = os.path.getsize(image_path) / 1024\n",
    "\n",
    "        if file_size_kb < 20:\n",
    "            with open(image_path, 'rb') as f:\n",
    "                img = Image.fromarray(np.reshape(np.frombuffer(f.read(), dtype=np.uint8), (128, 128)))\n",
    "        else:\n",
    "            with open(image_path, 'rb') as f:\n",
    "                img = Image.fromarray(np.reshape(np.frombuffer(f.read(), dtype=np.uint8), (512, 512)))\n",
    "                img = img.resize((128, 128))\n",
    "        if self.transform:\n",
    "            img = self.transform(img)\n",
    "\n",
    "        # 将类别标签转换为整数\n",
    "        sex_label = {'male': 0, 'female': 1}.get(sex, -1)\n",
    "        age_label = {'child': 0, 'teen': 1, 'adult': 2, 'senior': 3}.get(age, -1)\n",
    "        race_label = {'white': 0, 'yellow': 1, 'black': 2, 'hispanic': 0, 'asian': 1, 'other': 0}.get(race, -1)\n",
    "        face_label = {'smiling': 0, 'serious': 1, 'funny': 2}.get(face, -1)\n",
    "\n",
    "        labels = [sex_label, age_label, race_label, face_label]\n",
    "        if any(label == -1 for label in labels):\n",
    "            print(f\"Invalid label in sample: {self.samples[idx]}\")\n",
    "            raise ValueError(f\"Invalid label in sample: {self.samples[idx]}\")\n",
    "\n",
    "        return img, torch.tensor(labels, dtype=torch.long)\n"
   ],
   "id": "f94604d415be3ff7",
   "outputs": [],
   "execution_count": 4
  },
  {
   "metadata": {},
   "cell_type": "markdown",
   "source": "对数据集进行数据增强，包括旋转、颜色抖动的操作，增强数据集的代表性",
   "id": "a9a74e6a8ddc2596"
  },
  {
   "metadata": {
    "ExecuteTime": {
     "end_time": "2025-01-08T12:27:09.225944Z",
     "start_time": "2025-01-08T12:27:09.220526Z"
    }
   },
   "cell_type": "code",
   "source": [
    "# 数据变换，包括数据增强\n",
    "train_transform = transforms.Compose([\n",
    "    transforms.Resize((128, 128)),\n",
    "    transforms.RandomHorizontalFlip(),\n",
    "    transforms.ColorJitter(brightness=0.4, contrast=0.4, saturation=0),\n",
    "    transforms.ToTensor(),\n",
    "])\n",
    "\n",
    "test_transform = transforms.Compose([\n",
    "    transforms.Resize((128, 128)),\n",
    "    transforms.ToTensor(),\n",
    "])"
   ],
   "id": "50d42c047d2b5b19",
   "outputs": [],
   "execution_count": 5
  },
  {
   "metadata": {},
   "cell_type": "markdown",
   "source": "浏览faceDR和faceDS后发现，原始的数据集中比较相似的数据会聚集在更近的范围内，直接用faceDR和faceDS中的一个作为训练集一个作为测试集使用的话，很容易出现测试集中出现训练集中没有的数据的情况。这里选择将faceDR和faceDS合并，随机打乱后再按照7:3的比例分为训练集和测试集的方法，尽量使训练集能覆盖到更多种类的数据",
   "id": "cacb7909767230f"
  },
  {
   "metadata": {
    "ExecuteTime": {
     "end_time": "2025-01-08T12:27:11.948364Z",
     "start_time": "2025-01-08T12:27:11.446205Z"
    }
   },
   "cell_type": "code",
   "source": [
    "\n",
    "# 加载数据集\n",
    "dataset = FaceDataset(data_files=['face/faceDR', 'face/faceDS'], raw_data_dir='face/rawdata', transform=train_transform)\n",
    "\n",
    "# 打乱数据集并划分训练集和测试集\n",
    "total_size = len(dataset)\n",
    "train_size = int(0.7 * total_size)\n",
    "test_size = total_size - train_size\n",
    "train_dataset, test_dataset = random_split(dataset, [train_size, test_size],\n",
    "                                           generator=torch.Generator().manual_seed(1523))\n",
    "\n",
    "train_loader = DataLoader(train_dataset, batch_size=32, shuffle=True)\n",
    "test_loader = DataLoader(test_dataset, batch_size=32, shuffle=False)"
   ],
   "id": "cba27ad3fdb4ff8a",
   "outputs": [
    {
     "name": "stdout",
     "output_type": "stream",
     "text": [
      "Skipping incomplete line 6:  1228 (_missing descriptor)\n",
      "\n",
      "Skipping incomplete line 10:  1232 (_missing descriptor)\n",
      "\n",
      "Skipping incomplete line 586:  1808 (_missing descriptor)\n",
      "\n",
      "Skipping image 2099 due to low or high overall brightness.\n",
      "Skipping image 2100 due to low or high overall brightness.\n",
      "Skipping image 2101 due to low or high overall brightness.\n",
      "Skipping image 2102 due to low or high overall brightness.\n",
      "Skipping image 2103 due to low or high overall brightness.\n",
      "Skipping image 2104 due to low or high overall brightness.\n",
      "Skipping image 2105 due to low or high overall brightness.\n",
      "Skipping image 2106 due to low or high overall brightness.\n",
      "Skipping image 3283 due to low or high overall brightness.\n",
      "Skipping image 3860 due to low or high overall brightness.\n",
      "Skipping image 3861 due to low or high overall brightness.\n",
      "Skipping image 3862 due to low or high overall brightness.\n",
      "Skipping image 3883 due to low or high overall brightness.\n",
      "Skipping incomplete line 834:  4056 (_missing descriptor)\n",
      "\n",
      "Skipping image 4125 due to low or high overall brightness.\n",
      "Skipping incomplete line 913:  4135 (_missing descriptor)\n",
      "\n",
      "Skipping incomplete line 914:  4136 (_missing descriptor)\n",
      "\n",
      "Skipping image 4146 due to low or high overall brightness.\n",
      "Skipping image 4237 due to low or high overall brightness.\n",
      "Skipping image 4267 due to low or high overall brightness.\n",
      "Skipping image 4269 due to high brightness in the center region.\n",
      "Skipping image 4289 due to high brightness in the center region.\n",
      "Skipping image 4295 due to low or high overall brightness.\n",
      "Skipping image 4335 due to low or high overall brightness.\n",
      "Skipping image 4354 due to low or high overall brightness.\n",
      "Skipping image 4355 due to high brightness in the center region.\n",
      "Skipping image 4356 due to high brightness in the center region.\n",
      "Skipping image 4357 due to high brightness in the center region.\n",
      "Skipping image 4358 due to high brightness in the center region.\n",
      "Skipping image 4359 due to high brightness in the center region.\n",
      "Skipping image 4429 due to low or high overall brightness.\n",
      "Skipping image 4452 due to low or high overall brightness.\n",
      "Skipping image 4468 due to high brightness in the center region.\n",
      "Skipping image 4498 due to low or high overall brightness.\n",
      "Skipping image 4566 due to low or high overall brightness.\n",
      "Skipping image 4637 due to low or high overall brightness.\n",
      "Skipping image 4679 due to low or high overall brightness.\n",
      "Skipping image 4710 due to low or high overall brightness.\n",
      "Skipping image 4779 due to low or high overall brightness.\n",
      "Skipping image 4908 due to low or high overall brightness.\n",
      "Skipping image 4992 due to low or high overall brightness.\n",
      "Skipping incomplete line 1782:  5004 (_missing descriptor)\n",
      "\n",
      "Skipping image 5076 due to low or high overall brightness.\n",
      "Skipping image 5113 due to low or high overall brightness.\n"
     ]
    }
   ],
   "execution_count": 6
  },
  {
   "metadata": {},
   "cell_type": "markdown",
   "source": [
    "初始化方法 (__init__):\n",
    "conv1: 第一个卷积层，输入通道数为1（假设输入图像是灰度图像），输出通道数为32，卷积核大小为3x3，步幅为1，填充为1。\n",
    "relu: ReLU激活函数，用于引入非线性。\n",
    "pool: 最大池化层，池化窗口大小为2x2，步幅为2，无填充。\n",
    "conv2: 第二个卷积层，输入通道数为32，输出通道数为64，卷积核大小为3x3，步幅为1，填充为1。\n",
    "fc1: 全连接层，输入特征维度为643232（假设经过两次池化后图像尺寸变为32x32），输出特征维度为256。\n",
    "fc2, fc3, fc4, fc5: 四个全连接层，分别对应性别、年龄、种族和表情的分类任务。每个全连接层的输出维度分别为2、4、3和3。\n",
    "前向传播方法 (forward):\n",
    "输入图像通过第一个卷积层、ReLU激活函数和最大池化层。\n",
    "再通过第二个卷积层、ReLU激活函数和最大池化层。\n",
    "将处理后的特征展平成一维向量。\n",
    "通过第一个全连接层并再次应用ReLU激活函数。\n",
    "分别通过四个全连接层得到性别、年龄、种族和表情的预测结果"
   ],
   "id": "4a3fbab6a7187c49"
  },
  {
   "metadata": {
    "ExecuteTime": {
     "end_time": "2025-01-08T12:27:15.245899Z",
     "start_time": "2025-01-08T12:27:15.240112Z"
    }
   },
   "cell_type": "code",
   "source": [
    "# 定义卷积神经网络模型\n",
    "class SimpleCNN(nn.Module):\n",
    "    def __init__(self):\n",
    "        super(SimpleCNN, self).__init__()\n",
    "        self.conv1 = nn.Conv2d(1, 32, kernel_size=3, stride=1, padding=1)\n",
    "        self.relu = nn.ReLU()\n",
    "        self.pool = nn.MaxPool2d(kernel_size=2, stride=2, padding=0)\n",
    "        self.conv2 = nn.Conv2d(32, 64, kernel_size=3, stride=1, padding=1)\n",
    "        self.fc1 = nn.Linear(64 * 32 * 32, 256)\n",
    "        self.fc2 = nn.Linear(256, 2)  # 性别\n",
    "        self.fc3 = nn.Linear(256, 4)  # 年龄\n",
    "        self.fc4 = nn.Linear(256, 3)  # 种族\n",
    "        self.fc5 = nn.Linear(256, 3)  # 表情\n",
    "\n",
    "    def forward(self, x):\n",
    "        x = self.pool(self.relu(self.conv1(x)))\n",
    "        x = self.pool(self.relu(self.conv2(x)))\n",
    "        x = x.view(-1, 64 * 32 * 32)\n",
    "        x = self.relu(self.fc1(x))\n",
    "        sex_output = self.fc2(x)\n",
    "        age_output = self.fc3(x)\n",
    "        race_output = self.fc4(x)\n",
    "        face_output = self.fc5(x)\n",
    "        return sex_output, age_output, race_output, face_output"
   ],
   "id": "a667c2fa8ffb5d08",
   "outputs": [],
   "execution_count": 7
  },
  {
   "metadata": {},
   "cell_type": "markdown",
   "source": [
    "model = SimpleCNN().to(device):\n",
    "创建一个 SimpleCNN 实例，并将其移动到指定的设备（CPU或GPU）上。\n",
    "criterion = nn.CrossEntropyLoss().to(device):\n",
    "使用交叉熵损失函数作为损失函数，并将其移动到指定的设备上。交叉熵损失函数适用于多分类问题。\n",
    "optimizer = optim.SGD(model.parameters(), lr=0.005, momentum=0.8):\n",
    "使用随机梯度下降（SGD）优化器来更新模型参数。学习率为0.005，动量为0.8。动量有助于加速收敛并减少震荡。"
   ],
   "id": "b15cb9160de1ee1e"
  },
  {
   "metadata": {
    "ExecuteTime": {
     "end_time": "2025-01-08T12:29:27.461131Z",
     "start_time": "2025-01-08T12:27:17.565319Z"
    }
   },
   "cell_type": "code",
   "source": [
    "# 初始化模型、损失函数和优化器\n",
    "model = SimpleCNN().to(device)\n",
    "criterion = nn.CrossEntropyLoss().to(device)\n",
    "optimizer = optim.SGD(model.parameters(), lr=0.005, momentum=0.8)\n",
    "# 训练模型\n",
    "num_epochs = 60\n",
    "for epoch in tqdm(range(num_epochs)):\n",
    "    model.train()\n",
    "    running_loss = 0.0\n",
    "    for images, labels in train_loader:\n",
    "        images = images.to(device)\n",
    "        labels = labels.to(device)\n",
    "\n",
    "        optimizer.zero_grad()\n",
    "        sex_outputs, age_outputs, race_outputs, face_outputs = model(images)\n",
    "        loss = criterion(sex_outputs, labels[:, 0]) + \\\n",
    "               criterion(age_outputs, labels[:, 1]) + \\\n",
    "               criterion(race_outputs, labels[:, 2]) + \\\n",
    "               criterion(face_outputs, labels[:, 3])\n",
    "        loss.backward()\n",
    "        optimizer.step()\n",
    "        running_loss += loss.item()\n",
    "    print(f'Epoch [{epoch+1}/{num_epochs}], Loss: {running_loss/len(train_loader):.4f}')\n",
    "\n",
    "# 评估模型\n",
    "model.eval()\n",
    "total = 0\n",
    "correct = 0\n",
    "\n",
    "# 存储所有真实标签和预测标签\n",
    "true_labels = {'sex': [], 'age': [], 'race': [], 'face': []}\n",
    "pred_labels = {'sex': [], 'age': [], 'race': [], 'face': []}\n",
    "\n",
    "with torch.no_grad():\n",
    "    for images, labels in test_loader:\n",
    "        images = images.to(device)\n",
    "        labels = labels.to(device)\n",
    "\n",
    "        sex_outputs, age_outputs, race_outputs, face_outputs = model(images)\n",
    "        _, predicted_sex = torch.max(sex_outputs, 1)\n",
    "        _, predicted_age = torch.max(age_outputs, 1)\n",
    "        _, predicted_race = torch.max(race_outputs, 1)\n",
    "        _, predicted_face = torch.max(face_outputs, 1)\n",
    "\n",
    "        true_labels['sex'].extend(labels[:, 0].cpu().numpy())\n",
    "        pred_labels['sex'].extend(predicted_sex.cpu().numpy())\n",
    "        true_labels['age'].extend(labels[:, 1].cpu().numpy())\n",
    "        pred_labels['age'].extend(predicted_age.cpu().numpy())\n",
    "        true_labels['race'].extend(labels[:, 2].cpu().numpy())\n",
    "        pred_labels['race'].extend(predicted_race.cpu().numpy())\n",
    "        true_labels['face'].extend(labels[:, 3].cpu().numpy())\n",
    "        pred_labels['face'].extend(predicted_face.cpu().numpy())\n",
    "\n",
    "        total += labels.size(0)\n",
    "\n",
    "        correct += ((predicted_sex == labels[:, 0]).sum().item() +\n",
    "                    (predicted_age == labels[:, 1]).sum().item() +\n",
    "                    (predicted_race == labels[:, 2]).sum().item() +\n",
    "                    (predicted_face == labels[:, 3]).sum().item()) / 4\n",
    "\n",
    "print(f'Accuracy of the model on the test images: {100 * correct / total:.2f}%')\n",
    "\n",
    "# 计算并打印各个类别的准确率\n",
    "def calculate_accuracy(true_labels, pred_labels, num_classes, class_names):\n",
    "    cm = confusion_matrix(true_labels, pred_labels, labels=list(range(num_classes)))\n",
    "    row_sums = cm.sum(axis=1)\n",
    "    accuracies = np.zeros(num_classes)\n",
    "    for i in range(num_classes):\n",
    "        if row_sums[i] > 0:\n",
    "            accuracies[i] = cm[i, i] / row_sums[i]\n",
    "    print(f'Accuracy of the model on the test images for each category:')\n",
    "    for i, acc in enumerate(accuracies):\n",
    "        print(f'{class_names[i]} Accuracy: {100 * acc:.2f}%')\n",
    "\n",
    "calculate_accuracy(true_labels['sex'], pred_labels['sex'], 2, ['male', 'female'])\n",
    "calculate_accuracy(true_labels['age'], pred_labels['age'], 4, ['child', 'teen', 'adult', 'senior'])\n",
    "calculate_accuracy(true_labels['race'], pred_labels['race'], 3, ['white', 'yellow', 'black'])\n",
    "calculate_accuracy(true_labels['face'], pred_labels['face'], 3, ['smiling', 'serious', 'funny'])\n",
    "\n",
    "# 绘制混淆矩阵\n",
    "def plot_confusion_matrix(true_labels, pred_labels, num_classes, class_names, title):\n",
    "    cm = confusion_matrix(true_labels, pred_labels, labels=list(range(num_classes)))\n",
    "    disp = ConfusionMatrixDisplay(confusion_matrix=cm, display_labels=class_names)\n",
    "    disp.plot(cmap=plt.cm.Blues)\n",
    "    plt.title(title)\n",
    "    plt.show()\n",
    "\n",
    "plot_confusion_matrix(true_labels['sex'], pred_labels['sex'], 2, ['male', 'female'], 'Sex Confusion Matrix')\n",
    "plot_confusion_matrix(true_labels['age'], pred_labels['age'], 4, ['child', 'teen', 'adult', 'senior'], 'Age Confusion Matrix')\n",
    "plot_confusion_matrix(true_labels['race'], pred_labels['race'], 3, ['white', 'yellow', 'black'], 'Race Confusion Matrix')\n",
    "plot_confusion_matrix(true_labels['face'], pred_labels['face'], 3, ['smiling', 'serious', 'funny'], 'Face Confusion Matrix')"
   ],
   "id": "65f3de07ddcfb9bf",
   "outputs": [
    {
     "name": "stderr",
     "output_type": "stream",
     "text": [
      "  2%|▏         | 1/60 [00:02<02:32,  2.59s/it]"
     ]
    },
    {
     "name": "stdout",
     "output_type": "stream",
     "text": [
      "Epoch [1/60], Loss: 2.7038\n"
     ]
    },
    {
     "name": "stderr",
     "output_type": "stream",
     "text": [
      "  3%|▎         | 2/60 [00:04<02:16,  2.35s/it]"
     ]
    },
    {
     "name": "stdout",
     "output_type": "stream",
     "text": [
      "Epoch [2/60], Loss: 2.5495\n"
     ]
    },
    {
     "name": "stderr",
     "output_type": "stream",
     "text": [
      "  5%|▌         | 3/60 [00:06<02:08,  2.25s/it]"
     ]
    },
    {
     "name": "stdout",
     "output_type": "stream",
     "text": [
      "Epoch [3/60], Loss: 2.4092\n"
     ]
    },
    {
     "name": "stderr",
     "output_type": "stream",
     "text": [
      "  7%|▋         | 4/60 [00:09<02:04,  2.22s/it]"
     ]
    },
    {
     "name": "stdout",
     "output_type": "stream",
     "text": [
      "Epoch [4/60], Loss: 2.2495\n"
     ]
    },
    {
     "name": "stderr",
     "output_type": "stream",
     "text": [
      "  8%|▊         | 5/60 [00:11<02:02,  2.23s/it]"
     ]
    },
    {
     "name": "stdout",
     "output_type": "stream",
     "text": [
      "Epoch [5/60], Loss: 2.1499\n"
     ]
    },
    {
     "name": "stderr",
     "output_type": "stream",
     "text": [
      " 10%|█         | 6/60 [00:13<01:59,  2.21s/it]"
     ]
    },
    {
     "name": "stdout",
     "output_type": "stream",
     "text": [
      "Epoch [6/60], Loss: 2.0638\n"
     ]
    },
    {
     "name": "stderr",
     "output_type": "stream",
     "text": [
      " 12%|█▏        | 7/60 [00:15<01:55,  2.18s/it]"
     ]
    },
    {
     "name": "stdout",
     "output_type": "stream",
     "text": [
      "Epoch [7/60], Loss: 1.9752\n"
     ]
    },
    {
     "name": "stderr",
     "output_type": "stream",
     "text": [
      " 13%|█▎        | 8/60 [00:17<01:52,  2.17s/it]"
     ]
    },
    {
     "name": "stdout",
     "output_type": "stream",
     "text": [
      "Epoch [8/60], Loss: 1.8890\n"
     ]
    },
    {
     "name": "stderr",
     "output_type": "stream",
     "text": [
      " 15%|█▌        | 9/60 [00:19<01:49,  2.15s/it]"
     ]
    },
    {
     "name": "stdout",
     "output_type": "stream",
     "text": [
      "Epoch [9/60], Loss: 1.8814\n"
     ]
    },
    {
     "name": "stderr",
     "output_type": "stream",
     "text": [
      " 17%|█▋        | 10/60 [00:22<01:47,  2.15s/it]"
     ]
    },
    {
     "name": "stdout",
     "output_type": "stream",
     "text": [
      "Epoch [10/60], Loss: 1.7457\n"
     ]
    },
    {
     "name": "stderr",
     "output_type": "stream",
     "text": [
      " 18%|█▊        | 11/60 [00:24<01:44,  2.14s/it]"
     ]
    },
    {
     "name": "stdout",
     "output_type": "stream",
     "text": [
      "Epoch [11/60], Loss: 1.6882\n"
     ]
    },
    {
     "name": "stderr",
     "output_type": "stream",
     "text": [
      " 20%|██        | 12/60 [00:26<01:42,  2.13s/it]"
     ]
    },
    {
     "name": "stdout",
     "output_type": "stream",
     "text": [
      "Epoch [12/60], Loss: 1.5917\n"
     ]
    },
    {
     "name": "stderr",
     "output_type": "stream",
     "text": [
      " 22%|██▏       | 13/60 [00:28<01:40,  2.14s/it]"
     ]
    },
    {
     "name": "stdout",
     "output_type": "stream",
     "text": [
      "Epoch [13/60], Loss: 1.5316\n"
     ]
    },
    {
     "name": "stderr",
     "output_type": "stream",
     "text": [
      " 23%|██▎       | 14/60 [00:30<01:37,  2.13s/it]"
     ]
    },
    {
     "name": "stdout",
     "output_type": "stream",
     "text": [
      "Epoch [14/60], Loss: 1.4258\n"
     ]
    },
    {
     "name": "stderr",
     "output_type": "stream",
     "text": [
      " 25%|██▌       | 15/60 [00:32<01:35,  2.12s/it]"
     ]
    },
    {
     "name": "stdout",
     "output_type": "stream",
     "text": [
      "Epoch [15/60], Loss: 1.3692\n"
     ]
    },
    {
     "name": "stderr",
     "output_type": "stream",
     "text": [
      " 27%|██▋       | 16/60 [00:34<01:33,  2.13s/it]"
     ]
    },
    {
     "name": "stdout",
     "output_type": "stream",
     "text": [
      "Epoch [16/60], Loss: 1.3447\n"
     ]
    },
    {
     "name": "stderr",
     "output_type": "stream",
     "text": [
      " 28%|██▊       | 17/60 [00:36<01:31,  2.13s/it]"
     ]
    },
    {
     "name": "stdout",
     "output_type": "stream",
     "text": [
      "Epoch [17/60], Loss: 1.2451\n"
     ]
    },
    {
     "name": "stderr",
     "output_type": "stream",
     "text": [
      " 30%|███       | 18/60 [00:39<01:29,  2.13s/it]"
     ]
    },
    {
     "name": "stdout",
     "output_type": "stream",
     "text": [
      "Epoch [18/60], Loss: 1.2042\n"
     ]
    },
    {
     "name": "stderr",
     "output_type": "stream",
     "text": [
      " 32%|███▏      | 19/60 [00:41<01:27,  2.13s/it]"
     ]
    },
    {
     "name": "stdout",
     "output_type": "stream",
     "text": [
      "Epoch [19/60], Loss: 1.1396\n"
     ]
    },
    {
     "name": "stderr",
     "output_type": "stream",
     "text": [
      " 33%|███▎      | 20/60 [00:43<01:25,  2.14s/it]"
     ]
    },
    {
     "name": "stdout",
     "output_type": "stream",
     "text": [
      "Epoch [20/60], Loss: 1.1001\n"
     ]
    },
    {
     "name": "stderr",
     "output_type": "stream",
     "text": [
      " 35%|███▌      | 21/60 [00:45<01:23,  2.14s/it]"
     ]
    },
    {
     "name": "stdout",
     "output_type": "stream",
     "text": [
      "Epoch [21/60], Loss: 1.0534\n"
     ]
    },
    {
     "name": "stderr",
     "output_type": "stream",
     "text": [
      " 37%|███▋      | 22/60 [00:47<01:21,  2.15s/it]"
     ]
    },
    {
     "name": "stdout",
     "output_type": "stream",
     "text": [
      "Epoch [22/60], Loss: 1.0095\n"
     ]
    },
    {
     "name": "stderr",
     "output_type": "stream",
     "text": [
      " 38%|███▊      | 23/60 [00:49<01:19,  2.15s/it]"
     ]
    },
    {
     "name": "stdout",
     "output_type": "stream",
     "text": [
      "Epoch [23/60], Loss: 0.9484\n"
     ]
    },
    {
     "name": "stderr",
     "output_type": "stream",
     "text": [
      " 40%|████      | 24/60 [00:51<01:17,  2.15s/it]"
     ]
    },
    {
     "name": "stdout",
     "output_type": "stream",
     "text": [
      "Epoch [24/60], Loss: 0.9018\n"
     ]
    },
    {
     "name": "stderr",
     "output_type": "stream",
     "text": [
      " 42%|████▏     | 25/60 [00:54<01:15,  2.15s/it]"
     ]
    },
    {
     "name": "stdout",
     "output_type": "stream",
     "text": [
      "Epoch [25/60], Loss: 0.8592\n"
     ]
    },
    {
     "name": "stderr",
     "output_type": "stream",
     "text": [
      " 43%|████▎     | 26/60 [00:56<01:13,  2.16s/it]"
     ]
    },
    {
     "name": "stdout",
     "output_type": "stream",
     "text": [
      "Epoch [26/60], Loss: 0.8372\n"
     ]
    },
    {
     "name": "stderr",
     "output_type": "stream",
     "text": [
      " 45%|████▌     | 27/60 [00:58<01:11,  2.15s/it]"
     ]
    },
    {
     "name": "stdout",
     "output_type": "stream",
     "text": [
      "Epoch [27/60], Loss: 0.8013\n"
     ]
    },
    {
     "name": "stderr",
     "output_type": "stream",
     "text": [
      " 47%|████▋     | 28/60 [01:00<01:08,  2.15s/it]"
     ]
    },
    {
     "name": "stdout",
     "output_type": "stream",
     "text": [
      "Epoch [28/60], Loss: 0.7493\n"
     ]
    },
    {
     "name": "stderr",
     "output_type": "stream",
     "text": [
      " 48%|████▊     | 29/60 [01:02<01:06,  2.15s/it]"
     ]
    },
    {
     "name": "stdout",
     "output_type": "stream",
     "text": [
      "Epoch [29/60], Loss: 0.7012\n"
     ]
    },
    {
     "name": "stderr",
     "output_type": "stream",
     "text": [
      " 50%|█████     | 30/60 [01:04<01:04,  2.15s/it]"
     ]
    },
    {
     "name": "stdout",
     "output_type": "stream",
     "text": [
      "Epoch [30/60], Loss: 0.6807\n"
     ]
    },
    {
     "name": "stderr",
     "output_type": "stream",
     "text": [
      " 52%|█████▏    | 31/60 [01:07<01:02,  2.15s/it]"
     ]
    },
    {
     "name": "stdout",
     "output_type": "stream",
     "text": [
      "Epoch [31/60], Loss: 0.6479\n"
     ]
    },
    {
     "name": "stderr",
     "output_type": "stream",
     "text": [
      " 53%|█████▎    | 32/60 [01:09<01:00,  2.15s/it]"
     ]
    },
    {
     "name": "stdout",
     "output_type": "stream",
     "text": [
      "Epoch [32/60], Loss: 0.5969\n"
     ]
    },
    {
     "name": "stderr",
     "output_type": "stream",
     "text": [
      " 55%|█████▌    | 33/60 [01:11<00:58,  2.15s/it]"
     ]
    },
    {
     "name": "stdout",
     "output_type": "stream",
     "text": [
      "Epoch [33/60], Loss: 0.5703\n"
     ]
    },
    {
     "name": "stderr",
     "output_type": "stream",
     "text": [
      " 57%|█████▋    | 34/60 [01:13<00:55,  2.15s/it]"
     ]
    },
    {
     "name": "stdout",
     "output_type": "stream",
     "text": [
      "Epoch [34/60], Loss: 0.5570\n"
     ]
    },
    {
     "name": "stderr",
     "output_type": "stream",
     "text": [
      " 58%|█████▊    | 35/60 [01:15<00:53,  2.14s/it]"
     ]
    },
    {
     "name": "stdout",
     "output_type": "stream",
     "text": [
      "Epoch [35/60], Loss: 0.5371\n"
     ]
    },
    {
     "name": "stderr",
     "output_type": "stream",
     "text": [
      " 60%|██████    | 36/60 [01:17<00:51,  2.14s/it]"
     ]
    },
    {
     "name": "stdout",
     "output_type": "stream",
     "text": [
      "Epoch [36/60], Loss: 0.4786\n"
     ]
    },
    {
     "name": "stderr",
     "output_type": "stream",
     "text": [
      " 62%|██████▏   | 37/60 [01:19<00:49,  2.13s/it]"
     ]
    },
    {
     "name": "stdout",
     "output_type": "stream",
     "text": [
      "Epoch [37/60], Loss: 0.4803\n"
     ]
    },
    {
     "name": "stderr",
     "output_type": "stream",
     "text": [
      " 63%|██████▎   | 38/60 [01:21<00:46,  2.13s/it]"
     ]
    },
    {
     "name": "stdout",
     "output_type": "stream",
     "text": [
      "Epoch [38/60], Loss: 0.4483\n"
     ]
    },
    {
     "name": "stderr",
     "output_type": "stream",
     "text": [
      " 65%|██████▌   | 39/60 [01:24<00:44,  2.13s/it]"
     ]
    },
    {
     "name": "stdout",
     "output_type": "stream",
     "text": [
      "Epoch [39/60], Loss: 0.4552\n"
     ]
    },
    {
     "name": "stderr",
     "output_type": "stream",
     "text": [
      " 67%|██████▋   | 40/60 [01:26<00:42,  2.13s/it]"
     ]
    },
    {
     "name": "stdout",
     "output_type": "stream",
     "text": [
      "Epoch [40/60], Loss: 0.4034\n"
     ]
    },
    {
     "name": "stderr",
     "output_type": "stream",
     "text": [
      " 68%|██████▊   | 41/60 [01:28<00:40,  2.13s/it]"
     ]
    },
    {
     "name": "stdout",
     "output_type": "stream",
     "text": [
      "Epoch [41/60], Loss: 0.3621\n"
     ]
    },
    {
     "name": "stderr",
     "output_type": "stream",
     "text": [
      " 70%|███████   | 42/60 [01:30<00:38,  2.12s/it]"
     ]
    },
    {
     "name": "stdout",
     "output_type": "stream",
     "text": [
      "Epoch [42/60], Loss: 0.3903\n"
     ]
    },
    {
     "name": "stderr",
     "output_type": "stream",
     "text": [
      " 72%|███████▏  | 43/60 [01:32<00:36,  2.13s/it]"
     ]
    },
    {
     "name": "stdout",
     "output_type": "stream",
     "text": [
      "Epoch [43/60], Loss: 0.3608\n"
     ]
    },
    {
     "name": "stderr",
     "output_type": "stream",
     "text": [
      " 73%|███████▎  | 44/60 [01:34<00:34,  2.13s/it]"
     ]
    },
    {
     "name": "stdout",
     "output_type": "stream",
     "text": [
      "Epoch [44/60], Loss: 0.3473\n"
     ]
    },
    {
     "name": "stderr",
     "output_type": "stream",
     "text": [
      " 75%|███████▌  | 45/60 [01:36<00:31,  2.12s/it]"
     ]
    },
    {
     "name": "stdout",
     "output_type": "stream",
     "text": [
      "Epoch [45/60], Loss: 0.3358\n"
     ]
    },
    {
     "name": "stderr",
     "output_type": "stream",
     "text": [
      " 77%|███████▋  | 46/60 [01:38<00:29,  2.12s/it]"
     ]
    },
    {
     "name": "stdout",
     "output_type": "stream",
     "text": [
      "Epoch [46/60], Loss: 0.3109\n"
     ]
    },
    {
     "name": "stderr",
     "output_type": "stream",
     "text": [
      " 78%|███████▊  | 47/60 [01:41<00:27,  2.13s/it]"
     ]
    },
    {
     "name": "stdout",
     "output_type": "stream",
     "text": [
      "Epoch [47/60], Loss: 0.2694\n"
     ]
    },
    {
     "name": "stderr",
     "output_type": "stream",
     "text": [
      " 80%|████████  | 48/60 [01:43<00:25,  2.13s/it]"
     ]
    },
    {
     "name": "stdout",
     "output_type": "stream",
     "text": [
      "Epoch [48/60], Loss: 0.2621\n"
     ]
    },
    {
     "name": "stderr",
     "output_type": "stream",
     "text": [
      " 82%|████████▏ | 49/60 [01:45<00:23,  2.13s/it]"
     ]
    },
    {
     "name": "stdout",
     "output_type": "stream",
     "text": [
      "Epoch [49/60], Loss: 0.2065\n"
     ]
    },
    {
     "name": "stderr",
     "output_type": "stream",
     "text": [
      " 83%|████████▎ | 50/60 [01:47<00:21,  2.13s/it]"
     ]
    },
    {
     "name": "stdout",
     "output_type": "stream",
     "text": [
      "Epoch [50/60], Loss: 0.2168\n"
     ]
    },
    {
     "name": "stderr",
     "output_type": "stream",
     "text": [
      " 85%|████████▌ | 51/60 [01:49<00:19,  2.12s/it]"
     ]
    },
    {
     "name": "stdout",
     "output_type": "stream",
     "text": [
      "Epoch [51/60], Loss: 0.2387\n"
     ]
    },
    {
     "name": "stderr",
     "output_type": "stream",
     "text": [
      " 87%|████████▋ | 52/60 [01:51<00:16,  2.12s/it]"
     ]
    },
    {
     "name": "stdout",
     "output_type": "stream",
     "text": [
      "Epoch [52/60], Loss: 0.2079\n"
     ]
    },
    {
     "name": "stderr",
     "output_type": "stream",
     "text": [
      " 88%|████████▊ | 53/60 [01:53<00:14,  2.12s/it]"
     ]
    },
    {
     "name": "stdout",
     "output_type": "stream",
     "text": [
      "Epoch [53/60], Loss: 0.2324\n"
     ]
    },
    {
     "name": "stderr",
     "output_type": "stream",
     "text": [
      " 90%|█████████ | 54/60 [01:55<00:12,  2.12s/it]"
     ]
    },
    {
     "name": "stdout",
     "output_type": "stream",
     "text": [
      "Epoch [54/60], Loss: 0.2328\n"
     ]
    },
    {
     "name": "stderr",
     "output_type": "stream",
     "text": [
      " 92%|█████████▏| 55/60 [01:58<00:10,  2.12s/it]"
     ]
    },
    {
     "name": "stdout",
     "output_type": "stream",
     "text": [
      "Epoch [55/60], Loss: 0.2166\n"
     ]
    },
    {
     "name": "stderr",
     "output_type": "stream",
     "text": [
      " 93%|█████████▎| 56/60 [02:00<00:08,  2.12s/it]"
     ]
    },
    {
     "name": "stdout",
     "output_type": "stream",
     "text": [
      "Epoch [56/60], Loss: 0.1928\n"
     ]
    },
    {
     "name": "stderr",
     "output_type": "stream",
     "text": [
      " 95%|█████████▌| 57/60 [02:02<00:06,  2.12s/it]"
     ]
    },
    {
     "name": "stdout",
     "output_type": "stream",
     "text": [
      "Epoch [57/60], Loss: 0.1690\n"
     ]
    },
    {
     "name": "stderr",
     "output_type": "stream",
     "text": [
      " 97%|█████████▋| 58/60 [02:04<00:04,  2.13s/it]"
     ]
    },
    {
     "name": "stdout",
     "output_type": "stream",
     "text": [
      "Epoch [58/60], Loss: 0.1808\n"
     ]
    },
    {
     "name": "stderr",
     "output_type": "stream",
     "text": [
      " 98%|█████████▊| 59/60 [02:06<00:02,  2.13s/it]"
     ]
    },
    {
     "name": "stdout",
     "output_type": "stream",
     "text": [
      "Epoch [59/60], Loss: 0.1604\n"
     ]
    },
    {
     "name": "stderr",
     "output_type": "stream",
     "text": [
      "100%|██████████| 60/60 [02:08<00:00,  2.15s/it]"
     ]
    },
    {
     "name": "stdout",
     "output_type": "stream",
     "text": [
      "Epoch [60/60], Loss: 0.1471\n"
     ]
    },
    {
     "name": "stderr",
     "output_type": "stream",
     "text": [
      "\n"
     ]
    },
    {
     "name": "stdout",
     "output_type": "stream",
     "text": [
      "Accuracy of the model on the test images: 86.72%\n",
      "Accuracy of the model on the test images for each category:\n",
      "male Accuracy: 88.90%\n",
      "female Accuracy: 84.21%\n",
      "Accuracy of the model on the test images for each category:\n",
      "child Accuracy: 67.39%\n",
      "teen Accuracy: 35.78%\n",
      "adult Accuracy: 95.19%\n",
      "senior Accuracy: 61.22%\n",
      "Accuracy of the model on the test images for each category:\n",
      "white Accuracy: 98.70%\n",
      "yellow Accuracy: 40.74%\n",
      "black Accuracy: 84.81%\n",
      "Accuracy of the model on the test images for each category:\n",
      "smiling Accuracy: 83.88%\n",
      "serious Accuracy: 73.82%\n",
      "funny Accuracy: 12.00%\n"
     ]
    },
    {
     "data": {
      "text/plain": [
       "<Figure size 640x480 with 2 Axes>"
      ],
      "image/png": "[encoded data removed]"
     },
     "metadata": {},
     "output_type": "display_data"
    },
    {
     "data": {
      "text/plain": [
       "<Figure size 640x480 with 2 Axes>"
      ],
      "image/png": "[encoded data removed]"
     },
     "metadata": {},
     "output_type": "display_data"
    },
    {
     "data": {
      "text/plain": [
       "<Figure size 640x480 with 2 Axes>"
      ],
      "image/png": "[encoded data removed]"
     },
     "metadata": {},
     "output_type": "display_data"
    },
    {
     "data": {
      "text/plain": [
       "<Figure size 640x480 with 2 Axes>"
      ],
      "image/png": "[encoded data removed]"
     },
     "metadata": {},
     "output_type": "display_data"
    }
   ],
   "execution_count": 8
  }
 ],
 "metadata": {
  "kernelspec": {
   "display_name": "Python [conda env:pytorch] *",
   "language": "python",
   "name": "conda-env-pytorch-py"
  },
  "language_info": {
   "codemirror_mode": {
    "name": "ipython",
    "version": 2
   },
   "file_extension": ".py",
   "mimetype": "text/x-python",
   "name": "python",
   "nbconvert_exporter": "python",
   "pygments_lexer": "ipython2",
   "version": "2.7.6"
  }
 },
 "nbformat": 4,
 "nbformat_minor": 5
}
